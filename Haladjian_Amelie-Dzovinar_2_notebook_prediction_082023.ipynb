{
 "cells": [
  {
   "cell_type": "code",
   "execution_count": 183,
   "metadata": {},
   "outputs": [],
   "source": [
    "from sklearn.linear_model import LinearRegression, ElasticNet\n",
    "from sklearn.svm import SVR\n",
    "from sklearn.ensemble import RandomForestRegressor, GradientBoostingRegressor\n",
    "import pandas as pd\n",
    "import matplotlib.pyplot as plt\n",
    "import numpy as np\n",
    "from sklearn.model_selection import (\n",
    "    train_test_split,\n",
    "    cross_val_score,\n",
    "    validation_curve,\n",
    "    GridSearchCV,\n",
    ")\n",
    "from sklearn.preprocessing import RobustScaler\n",
    "from sklearn.metrics import (\n",
    "    make_scorer,\n",
    "    mean_squared_error,\n",
    "    r2_score,\n",
    "    mean_absolute_error,\n",
    ")\n",
    "\n",
    "from sklearn.feature_selection import SelectKBest, VarianceThreshold\n",
    "import time\n",
    "import seaborn as sns"
   ]
  },
  {
   "cell_type": "code",
   "execution_count": 159,
   "metadata": {},
   "outputs": [
    {
     "data": {
      "text/html": [
       "<div>\n",
       "<style scoped>\n",
       "    .dataframe tbody tr th:only-of-type {\n",
       "        vertical-align: middle;\n",
       "    }\n",
       "\n",
       "    .dataframe tbody tr th {\n",
       "        vertical-align: top;\n",
       "    }\n",
       "\n",
       "    .dataframe thead th {\n",
       "        text-align: right;\n",
       "    }\n",
       "</style>\n",
       "<table border=\"1\" class=\"dataframe\">\n",
       "  <thead>\n",
       "    <tr style=\"text-align: right;\">\n",
       "      <th></th>\n",
       "      <th>Latitude</th>\n",
       "      <th>Longitude</th>\n",
       "      <th>NumberofBuildings</th>\n",
       "      <th>NumberofFloors</th>\n",
       "      <th>PropertyGFATotal</th>\n",
       "      <th>SiteEnergyUse(kBtu)</th>\n",
       "      <th>TotalGHGEmissions</th>\n",
       "      <th>ElectricityUse(Percentage)</th>\n",
       "      <th>SteamUse(Percentage)</th>\n",
       "      <th>NaturalGasUse(Percentage)</th>\n",
       "      <th>...</th>\n",
       "      <th>ThirdLargestUseTypeGFA(Percentage)</th>\n",
       "      <th>ParkingGFA(Percentage)</th>\n",
       "      <th>NumberOfYearsENERGYSTARCertified</th>\n",
       "      <th>BuildingAge</th>\n",
       "      <th>NumberOfPropertyUses</th>\n",
       "      <th>Leisure</th>\n",
       "      <th>MedicalFacility</th>\n",
       "      <th>School</th>\n",
       "      <th>ServiceFacility</th>\n",
       "      <th>Store</th>\n",
       "    </tr>\n",
       "  </thead>\n",
       "  <tbody>\n",
       "    <tr>\n",
       "      <th>0</th>\n",
       "      <td>47.61220</td>\n",
       "      <td>-122.33799</td>\n",
       "      <td>0.30103</td>\n",
       "      <td>1.113943</td>\n",
       "      <td>4.946624</td>\n",
       "      <td>6.858920</td>\n",
       "      <td>2.399639</td>\n",
       "      <td>54.61</td>\n",
       "      <td>27.73</td>\n",
       "      <td>17.66</td>\n",
       "      <td>...</td>\n",
       "      <td>0.00</td>\n",
       "      <td>0.00</td>\n",
       "      <td>0.0</td>\n",
       "      <td>89</td>\n",
       "      <td>1</td>\n",
       "      <td>1.0</td>\n",
       "      <td>0.0</td>\n",
       "      <td>0.0</td>\n",
       "      <td>0.0</td>\n",
       "      <td>0.0</td>\n",
       "    </tr>\n",
       "    <tr>\n",
       "      <th>1</th>\n",
       "      <td>47.61317</td>\n",
       "      <td>-122.33393</td>\n",
       "      <td>0.30103</td>\n",
       "      <td>1.079181</td>\n",
       "      <td>5.015221</td>\n",
       "      <td>6.923655</td>\n",
       "      <td>2.472552</td>\n",
       "      <td>38.66</td>\n",
       "      <td>0.00</td>\n",
       "      <td>61.34</td>\n",
       "      <td>...</td>\n",
       "      <td>4.46</td>\n",
       "      <td>14.55</td>\n",
       "      <td>0.0</td>\n",
       "      <td>20</td>\n",
       "      <td>3</td>\n",
       "      <td>1.0</td>\n",
       "      <td>0.0</td>\n",
       "      <td>0.0</td>\n",
       "      <td>1.0</td>\n",
       "      <td>0.0</td>\n",
       "    </tr>\n",
       "    <tr>\n",
       "      <th>2</th>\n",
       "      <td>47.61393</td>\n",
       "      <td>-122.33810</td>\n",
       "      <td>0.30103</td>\n",
       "      <td>1.623249</td>\n",
       "      <td>5.980508</td>\n",
       "      <td>7.860859</td>\n",
       "      <td>3.320204</td>\n",
       "      <td>68.23</td>\n",
       "      <td>29.71</td>\n",
       "      <td>2.06</td>\n",
       "      <td>...</td>\n",
       "      <td>0.00</td>\n",
       "      <td>20.57</td>\n",
       "      <td>0.0</td>\n",
       "      <td>47</td>\n",
       "      <td>1</td>\n",
       "      <td>1.0</td>\n",
       "      <td>0.0</td>\n",
       "      <td>0.0</td>\n",
       "      <td>0.0</td>\n",
       "      <td>0.0</td>\n",
       "    </tr>\n",
       "    <tr>\n",
       "      <th>3</th>\n",
       "      <td>47.61412</td>\n",
       "      <td>-122.33664</td>\n",
       "      <td>0.30103</td>\n",
       "      <td>1.041393</td>\n",
       "      <td>4.787609</td>\n",
       "      <td>6.832163</td>\n",
       "      <td>2.458532</td>\n",
       "      <td>40.75</td>\n",
       "      <td>32.59</td>\n",
       "      <td>26.66</td>\n",
       "      <td>...</td>\n",
       "      <td>0.00</td>\n",
       "      <td>0.00</td>\n",
       "      <td>0.0</td>\n",
       "      <td>90</td>\n",
       "      <td>1</td>\n",
       "      <td>1.0</td>\n",
       "      <td>0.0</td>\n",
       "      <td>0.0</td>\n",
       "      <td>0.0</td>\n",
       "      <td>0.0</td>\n",
       "    </tr>\n",
       "    <tr>\n",
       "      <th>4</th>\n",
       "      <td>47.61375</td>\n",
       "      <td>-122.34047</td>\n",
       "      <td>0.30103</td>\n",
       "      <td>1.278754</td>\n",
       "      <td>5.244478</td>\n",
       "      <td>7.151450</td>\n",
       "      <td>2.704159</td>\n",
       "      <td>37.88</td>\n",
       "      <td>0.00</td>\n",
       "      <td>62.12</td>\n",
       "      <td>...</td>\n",
       "      <td>0.00</td>\n",
       "      <td>35.31</td>\n",
       "      <td>0.0</td>\n",
       "      <td>36</td>\n",
       "      <td>3</td>\n",
       "      <td>1.0</td>\n",
       "      <td>0.0</td>\n",
       "      <td>0.0</td>\n",
       "      <td>1.0</td>\n",
       "      <td>0.0</td>\n",
       "    </tr>\n",
       "    <tr>\n",
       "      <th>...</th>\n",
       "      <td>...</td>\n",
       "      <td>...</td>\n",
       "      <td>...</td>\n",
       "      <td>...</td>\n",
       "      <td>...</td>\n",
       "      <td>...</td>\n",
       "      <td>...</td>\n",
       "      <td>...</td>\n",
       "      <td>...</td>\n",
       "      <td>...</td>\n",
       "      <td>...</td>\n",
       "      <td>...</td>\n",
       "      <td>...</td>\n",
       "      <td>...</td>\n",
       "      <td>...</td>\n",
       "      <td>...</td>\n",
       "      <td>...</td>\n",
       "      <td>...</td>\n",
       "      <td>...</td>\n",
       "      <td>...</td>\n",
       "      <td>...</td>\n",
       "    </tr>\n",
       "    <tr>\n",
       "      <th>1532</th>\n",
       "      <td>47.54067</td>\n",
       "      <td>-122.37441</td>\n",
       "      <td>0.30103</td>\n",
       "      <td>0.301030</td>\n",
       "      <td>4.261548</td>\n",
       "      <td>5.969455</td>\n",
       "      <td>1.328991</td>\n",
       "      <td>67.84</td>\n",
       "      <td>0.00</td>\n",
       "      <td>32.16</td>\n",
       "      <td>...</td>\n",
       "      <td>0.00</td>\n",
       "      <td>0.00</td>\n",
       "      <td>0.0</td>\n",
       "      <td>34</td>\n",
       "      <td>1</td>\n",
       "      <td>1.0</td>\n",
       "      <td>0.0</td>\n",
       "      <td>0.0</td>\n",
       "      <td>1.0</td>\n",
       "      <td>0.0</td>\n",
       "    </tr>\n",
       "    <tr>\n",
       "      <th>1533</th>\n",
       "      <td>47.59625</td>\n",
       "      <td>-122.32283</td>\n",
       "      <td>0.30103</td>\n",
       "      <td>0.301030</td>\n",
       "      <td>4.204147</td>\n",
       "      <td>5.977850</td>\n",
       "      <td>1.520745</td>\n",
       "      <td>41.73</td>\n",
       "      <td>0.00</td>\n",
       "      <td>58.27</td>\n",
       "      <td>...</td>\n",
       "      <td>0.00</td>\n",
       "      <td>0.00</td>\n",
       "      <td>0.0</td>\n",
       "      <td>12</td>\n",
       "      <td>1</td>\n",
       "      <td>1.0</td>\n",
       "      <td>0.0</td>\n",
       "      <td>0.0</td>\n",
       "      <td>1.0</td>\n",
       "      <td>0.0</td>\n",
       "    </tr>\n",
       "    <tr>\n",
       "      <th>1534</th>\n",
       "      <td>47.63644</td>\n",
       "      <td>-122.35784</td>\n",
       "      <td>0.30103</td>\n",
       "      <td>0.301030</td>\n",
       "      <td>4.119190</td>\n",
       "      <td>6.760867</td>\n",
       "      <td>2.351294</td>\n",
       "      <td>31.08</td>\n",
       "      <td>0.00</td>\n",
       "      <td>68.92</td>\n",
       "      <td>...</td>\n",
       "      <td>0.00</td>\n",
       "      <td>0.00</td>\n",
       "      <td>0.0</td>\n",
       "      <td>42</td>\n",
       "      <td>3</td>\n",
       "      <td>1.0</td>\n",
       "      <td>0.0</td>\n",
       "      <td>0.0</td>\n",
       "      <td>1.0</td>\n",
       "      <td>0.0</td>\n",
       "    </tr>\n",
       "    <tr>\n",
       "      <th>1535</th>\n",
       "      <td>47.52832</td>\n",
       "      <td>-122.32431</td>\n",
       "      <td>0.30103</td>\n",
       "      <td>0.301030</td>\n",
       "      <td>4.149281</td>\n",
       "      <td>5.857014</td>\n",
       "      <td>1.363800</td>\n",
       "      <td>48.49</td>\n",
       "      <td>0.00</td>\n",
       "      <td>51.51</td>\n",
       "      <td>...</td>\n",
       "      <td>3.43</td>\n",
       "      <td>0.00</td>\n",
       "      <td>0.0</td>\n",
       "      <td>27</td>\n",
       "      <td>5</td>\n",
       "      <td>1.0</td>\n",
       "      <td>0.0</td>\n",
       "      <td>1.0</td>\n",
       "      <td>1.0</td>\n",
       "      <td>0.0</td>\n",
       "    </tr>\n",
       "    <tr>\n",
       "      <th>1536</th>\n",
       "      <td>47.53939</td>\n",
       "      <td>-122.29536</td>\n",
       "      <td>0.30103</td>\n",
       "      <td>0.301030</td>\n",
       "      <td>4.261477</td>\n",
       "      <td>6.061791</td>\n",
       "      <td>1.626032</td>\n",
       "      <td>37.52</td>\n",
       "      <td>0.00</td>\n",
       "      <td>62.48</td>\n",
       "      <td>...</td>\n",
       "      <td>6.07</td>\n",
       "      <td>0.00</td>\n",
       "      <td>0.0</td>\n",
       "      <td>78</td>\n",
       "      <td>5</td>\n",
       "      <td>1.0</td>\n",
       "      <td>0.0</td>\n",
       "      <td>1.0</td>\n",
       "      <td>1.0</td>\n",
       "      <td>0.0</td>\n",
       "    </tr>\n",
       "  </tbody>\n",
       "</table>\n",
       "<p>1537 rows × 22 columns</p>\n",
       "</div>"
      ],
      "text/plain": [
       "      Latitude  Longitude  NumberofBuildings  NumberofFloors  \\\n",
       "0     47.61220 -122.33799            0.30103        1.113943   \n",
       "1     47.61317 -122.33393            0.30103        1.079181   \n",
       "2     47.61393 -122.33810            0.30103        1.623249   \n",
       "3     47.61412 -122.33664            0.30103        1.041393   \n",
       "4     47.61375 -122.34047            0.30103        1.278754   \n",
       "...        ...        ...                ...             ...   \n",
       "1532  47.54067 -122.37441            0.30103        0.301030   \n",
       "1533  47.59625 -122.32283            0.30103        0.301030   \n",
       "1534  47.63644 -122.35784            0.30103        0.301030   \n",
       "1535  47.52832 -122.32431            0.30103        0.301030   \n",
       "1536  47.53939 -122.29536            0.30103        0.301030   \n",
       "\n",
       "      PropertyGFATotal  SiteEnergyUse(kBtu)  TotalGHGEmissions  \\\n",
       "0             4.946624             6.858920           2.399639   \n",
       "1             5.015221             6.923655           2.472552   \n",
       "2             5.980508             7.860859           3.320204   \n",
       "3             4.787609             6.832163           2.458532   \n",
       "4             5.244478             7.151450           2.704159   \n",
       "...                ...                  ...                ...   \n",
       "1532          4.261548             5.969455           1.328991   \n",
       "1533          4.204147             5.977850           1.520745   \n",
       "1534          4.119190             6.760867           2.351294   \n",
       "1535          4.149281             5.857014           1.363800   \n",
       "1536          4.261477             6.061791           1.626032   \n",
       "\n",
       "      ElectricityUse(Percentage)  SteamUse(Percentage)  \\\n",
       "0                          54.61                 27.73   \n",
       "1                          38.66                  0.00   \n",
       "2                          68.23                 29.71   \n",
       "3                          40.75                 32.59   \n",
       "4                          37.88                  0.00   \n",
       "...                          ...                   ...   \n",
       "1532                       67.84                  0.00   \n",
       "1533                       41.73                  0.00   \n",
       "1534                       31.08                  0.00   \n",
       "1535                       48.49                  0.00   \n",
       "1536                       37.52                  0.00   \n",
       "\n",
       "      NaturalGasUse(Percentage)  ...  ThirdLargestUseTypeGFA(Percentage)  \\\n",
       "0                         17.66  ...                                0.00   \n",
       "1                         61.34  ...                                4.46   \n",
       "2                          2.06  ...                                0.00   \n",
       "3                         26.66  ...                                0.00   \n",
       "4                         62.12  ...                                0.00   \n",
       "...                         ...  ...                                 ...   \n",
       "1532                      32.16  ...                                0.00   \n",
       "1533                      58.27  ...                                0.00   \n",
       "1534                      68.92  ...                                0.00   \n",
       "1535                      51.51  ...                                3.43   \n",
       "1536                      62.48  ...                                6.07   \n",
       "\n",
       "      ParkingGFA(Percentage)  NumberOfYearsENERGYSTARCertified  BuildingAge  \\\n",
       "0                       0.00                               0.0           89   \n",
       "1                      14.55                               0.0           20   \n",
       "2                      20.57                               0.0           47   \n",
       "3                       0.00                               0.0           90   \n",
       "4                      35.31                               0.0           36   \n",
       "...                      ...                               ...          ...   \n",
       "1532                    0.00                               0.0           34   \n",
       "1533                    0.00                               0.0           12   \n",
       "1534                    0.00                               0.0           42   \n",
       "1535                    0.00                               0.0           27   \n",
       "1536                    0.00                               0.0           78   \n",
       "\n",
       "      NumberOfPropertyUses  Leisure  MedicalFacility  School  ServiceFacility  \\\n",
       "0                        1      1.0              0.0     0.0              0.0   \n",
       "1                        3      1.0              0.0     0.0              1.0   \n",
       "2                        1      1.0              0.0     0.0              0.0   \n",
       "3                        1      1.0              0.0     0.0              0.0   \n",
       "4                        3      1.0              0.0     0.0              1.0   \n",
       "...                    ...      ...              ...     ...              ...   \n",
       "1532                     1      1.0              0.0     0.0              1.0   \n",
       "1533                     1      1.0              0.0     0.0              1.0   \n",
       "1534                     3      1.0              0.0     0.0              1.0   \n",
       "1535                     5      1.0              0.0     1.0              1.0   \n",
       "1536                     5      1.0              0.0     1.0              1.0   \n",
       "\n",
       "      Store  \n",
       "0       0.0  \n",
       "1       0.0  \n",
       "2       0.0  \n",
       "3       0.0  \n",
       "4       0.0  \n",
       "...     ...  \n",
       "1532    0.0  \n",
       "1533    0.0  \n",
       "1534    0.0  \n",
       "1535    0.0  \n",
       "1536    0.0  \n",
       "\n",
       "[1537 rows x 22 columns]"
      ]
     },
     "execution_count": 159,
     "metadata": {},
     "output_type": "execute_result"
    }
   ],
   "source": [
    "data = pd.read_csv(\"clean_data.csv\")\n",
    "data.drop(columns=\"Unnamed: 0\", inplace=True)\n",
    "data"
   ]
  },
  {
   "cell_type": "markdown",
   "metadata": {},
   "source": [
    "# Testing different predictive models "
   ]
  },
  {
   "cell_type": "markdown",
   "metadata": {},
   "source": [
    "# Preparing the data"
   ]
  },
  {
   "cell_type": "markdown",
   "metadata": {},
   "source": [
    "### Feature selection with SelectKBest"
   ]
  },
  {
   "cell_type": "code",
   "execution_count": 139,
   "metadata": {},
   "outputs": [
    {
     "name": "stderr",
     "output_type": "stream",
     "text": [
      "/Users/amelie-dzovinar/Dev/anaconda3/envs/p4/lib/python3.10/site-packages/sklearn/feature_selection/_univariate_selection.py:109: RuntimeWarning: invalid value encountered in divide\n",
      "  msw = sswn / float(dfwn)\n"
     ]
    }
   ],
   "source": [
    "y = data[\"SiteEnergyUse(kBtu)\"]\n",
    "X = data.drop(columns=[\"SiteEnergyUse(kBtu)\", \"TotalGHGEmissions\"], axis=1)\n",
    "selector = SelectKBest(k=15)\n",
    "selector.fit_transform(X, y)\n",
    "\n",
    "selected_features = X.columns[selector.get_support()]"
   ]
  },
  {
   "cell_type": "code",
   "execution_count": 104,
   "metadata": {},
   "outputs": [
    {
     "data": {
      "text/plain": [
       "Index(['ElectricityUse(Percentage)', 'SteamUse(Percentage)',\n",
       "       'NaturalGasUse(Percentage)', 'LargestUseTypeGFA(Percentage)',\n",
       "       'SecondLargestUseTypeGFA(Percentage)',\n",
       "       'ThirdLargestUseTypeGFA(Percentage)', 'ParkingGFA(Percentage)',\n",
       "       'NumberOfYearsENERGYSTARCertified', 'BuildingAge',\n",
       "       'NumberOfPropertyUses', 'Leisure', 'MedicalFacility', 'School',\n",
       "       'ServiceFacility', 'Store'],\n",
       "      dtype='object')"
      ]
     },
     "execution_count": 104,
     "metadata": {},
     "output_type": "execute_result"
    }
   ],
   "source": [
    "selected_features"
   ]
  },
  {
   "cell_type": "code",
   "execution_count": 84,
   "metadata": {},
   "outputs": [],
   "source": [
    "# y = data[\"SiteEnergyUse(kBtu)\"]\n",
    "# X = data.drop(columns=[\"SiteEnergyUse(kBtu)\", \"TotalGHGEmissions\"], axis=1)\n",
    "# selector = VarianceThreshold(threshold=0.2)\n",
    "# selector.fit_transform(X)\n",
    "\n",
    "# selected_features = X.columns[selector.get_support()]"
   ]
  },
  {
   "cell_type": "code",
   "execution_count": 140,
   "metadata": {},
   "outputs": [],
   "source": [
    "y_energy_use = y\n",
    "X = data[selected_features]"
   ]
  },
  {
   "cell_type": "code",
   "execution_count": 160,
   "metadata": {},
   "outputs": [],
   "source": [
    "y_energy_use = data[\"SiteEnergyUse(kBtu)\"]\n",
    "X = data.drop(columns=[\"SiteEnergyUse(kBtu)\", \"TotalGHGEmissions\"], axis=1)"
   ]
  },
  {
   "cell_type": "markdown",
   "metadata": {},
   "source": [
    "## Separation of training and test data"
   ]
  },
  {
   "cell_type": "code",
   "execution_count": 161,
   "metadata": {},
   "outputs": [],
   "source": [
    "(\n",
    "    X_train_energy_use,\n",
    "    X_test_energy_use,\n",
    "    y_train_energy_use,\n",
    "    y_test_energy_use,\n",
    ") = train_test_split(X, y_energy_use, test_size=0.2, random_state=42)"
   ]
  },
  {
   "cell_type": "markdown",
   "metadata": {},
   "source": [
    "## Normalization "
   ]
  },
  {
   "cell_type": "code",
   "execution_count": 180,
   "metadata": {},
   "outputs": [],
   "source": [
    "scaler = RobustScaler()\n",
    "X_train_energy_use = scaler.fit_transform(X_train_energy_use)\n",
    "X_test_energy_use = scaler.transform(X_test_energy_use)"
   ]
  },
  {
   "cell_type": "markdown",
   "metadata": {},
   "source": [
    "## Comparing metrics "
   ]
  },
  {
   "cell_type": "markdown",
   "metadata": {},
   "source": [
    "While MAE is less impacted by outliers, we will favor RMSE since this metric is more strict with large errors."
   ]
  },
  {
   "cell_type": "markdown",
   "metadata": {},
   "source": [
    "# Comparing different models "
   ]
  },
  {
   "cell_type": "markdown",
   "metadata": {},
   "source": [
    "## Linear Regression"
   ]
  },
  {
   "cell_type": "code",
   "execution_count": 181,
   "metadata": {},
   "outputs": [
    {
     "name": "stdout",
     "output_type": "stream",
     "text": [
      "Train score:  0.6633015285108166\n",
      "Test score:  0.6375490694718409\n"
     ]
    }
   ],
   "source": [
    "model = LinearRegression()\n",
    "model = model.fit(X_train_energy_use, y_train_energy_use)\n",
    "\n",
    "train_score = model.score(X_train_energy_use, y_train_energy_use)\n",
    "test_score = model.score(X_test_energy_use, y_test_energy_use)\n",
    "print(\"Train score: \", train_score)\n",
    "print(\"Test score: \", test_score)"
   ]
  },
  {
   "cell_type": "markdown",
   "metadata": {},
   "source": [
    "Performing cross validation on a linear regression model"
   ]
  },
  {
   "cell_type": "code",
   "execution_count": 182,
   "metadata": {},
   "outputs": [
    {
     "data": {
      "text/plain": [
       "0.6436411189520996"
      ]
     },
     "execution_count": 182,
     "metadata": {},
     "output_type": "execute_result"
    }
   ],
   "source": [
    "cross_val_score(\n",
    "    LinearRegression(), X_train_energy_use, y_train_energy_use, cv=10\n",
    ").mean()"
   ]
  },
  {
   "cell_type": "markdown",
   "metadata": {},
   "source": [
    "## SVR"
   ]
  },
  {
   "cell_type": "code",
   "execution_count": 91,
   "metadata": {},
   "outputs": [],
   "source": [
    "y_train_energy_use = np.array(y_train_energy_use).ravel()\n",
    "c = np.arange(0, 100)\n",
    "\n",
    "train_score, validation_score = validation_curve(\n",
    "    SVR(),\n",
    "    X_train_energy_use,\n",
    "    y_train_energy_use,\n",
    "    param_name=\"C\",\n",
    "    param_range=c,\n",
    "    cv=10,\n",
    "    scoring=\"r2\",\n",
    ")"
   ]
  },
  {
   "cell_type": "code",
   "execution_count": 92,
   "metadata": {},
   "outputs": [
    {
     "data": {
      "image/png": "[encoded data removed]",
      "text/plain": [
       "<Figure size 640x480 with 1 Axes>"
      ]
     },
     "metadata": {},
     "output_type": "display_data"
    }
   ],
   "source": [
    "plt.plot(c, validation_score.mean(axis=1), label=\"Validation\")\n",
    "plt.plot(c, train_score.mean(axis=1), label=\"Training\")\n",
    "\n",
    "plt.ylabel(\"score\")\n",
    "plt.xlabel(\"C\")\n",
    "plt.legend()\n",
    "plt.show()"
   ]
  },
  {
   "cell_type": "markdown",
   "metadata": {},
   "source": [
    "# Models"
   ]
  },
  {
   "cell_type": "markdown",
   "metadata": {},
   "source": [
    "## Identifying optimal parameters with GridSearchCV"
   ]
  },
  {
   "cell_type": "code",
   "execution_count": 164,
   "metadata": {},
   "outputs": [],
   "source": [
    "def grid_search(model, params):\n",
    "    scoring = {\n",
    "        \"r2\": make_scorer(r2_score),\n",
    "        \"neg_mean_squared_error\": make_scorer(mean_squared_error),\n",
    "        \"neg_mean_absolute_error\": make_scorer(mean_absolute_error),\n",
    "    }\n",
    "    start = time.time()\n",
    "\n",
    "    grid = GridSearchCV(\n",
    "        model, params, cv=5, scoring=scoring, refit=\"neg_mean_squared_error\"\n",
    "    )\n",
    "    grid.fit(X_train_energy_use, y_train_energy_use)\n",
    "\n",
    "    elapsed_time = time.time() - start\n",
    "    results = {\n",
    "        \"Model\": str(model),\n",
    "        \"Mean Fit Time\": grid.cv_results_[\"mean_fit_time\"].mean(),\n",
    "        \"Mean R2\": grid.cv_results_[\"mean_test_r2\"].mean(),\n",
    "        \"Mean MAE\": (grid.cv_results_[\"mean_test_neg_mean_absolute_error\"].mean()),\n",
    "        \"Mean RMSE\": (\n",
    "            np.sqrt((grid.cv_results_[\"mean_test_neg_mean_squared_error\"].mean()))\n",
    "        ),\n",
    "        \"Best params\": str(grid.best_params_),\n",
    "        \"Runtime\": elapsed_time,\n",
    "    }\n",
    "\n",
    "    return pd.DataFrame(results, index=[0])"
   ]
  },
  {
   "cell_type": "code",
   "execution_count": 116,
   "metadata": {},
   "outputs": [],
   "source": [
    "model_comparison = pd.DataFrame()"
   ]
  },
  {
   "cell_type": "markdown",
   "metadata": {},
   "source": [
    "### SVR"
   ]
  },
  {
   "cell_type": "code",
   "execution_count": 168,
   "metadata": {},
   "outputs": [],
   "source": [
    "param_grid = {\n",
    "    \"C\": [1, 5, 20, 50, 100, 150],\n",
    "    \"epsilon\": [0, 0.01, 0.1, 0.5, 1, 2],\n",
    "}\n",
    "\n",
    "svr_results = grid_search(SVR(), param_grid)"
   ]
  },
  {
   "cell_type": "code",
   "execution_count": 169,
   "metadata": {},
   "outputs": [],
   "source": [
    "model_comparison = pd.concat([model_comparison, svr_results], ignore_index=True)"
   ]
  },
  {
   "cell_type": "markdown",
   "metadata": {},
   "source": [
    "### ElasticNet"
   ]
  },
  {
   "cell_type": "code",
   "execution_count": 165,
   "metadata": {},
   "outputs": [],
   "source": [
    "param_grid = {\n",
    "    \"alpha\": [100, 120, 150, 200],\n",
    "    \"l1_ratio\": [0.5, 1],\n",
    "    \"max_iter\": [500, 1000, 1500, 2000],\n",
    "    \"selection\": [\"cyclic\", \"random\"],\n",
    "}\n",
    "\n",
    "elastic_net_results = grid_search(ElasticNet(), param_grid)"
   ]
  },
  {
   "cell_type": "code",
   "execution_count": 166,
   "metadata": {},
   "outputs": [],
   "source": [
    "model_comparison = pd.concat([model_comparison, elastic_net_results], ignore_index=True)"
   ]
  },
  {
   "cell_type": "markdown",
   "metadata": {},
   "source": [
    "### RandomForest"
   ]
  },
  {
   "cell_type": "code",
   "execution_count": 173,
   "metadata": {},
   "outputs": [],
   "source": [
    "param_grid = {\n",
    "    \"n_estimators\": [100, 120, 150, 200],\n",
    "    \"max_depth\": [1, 10, 15, 20, 25, None],\n",
    "    \"min_samples_split\": [2, 4, 6, 8, 10],\n",
    "    \"max_features\": [\"sqrt\", \"log2\", None],\n",
    "}\n",
    "\n",
    "random_forest_results = grid_search(RandomForestRegressor(), param_grid)"
   ]
  },
  {
   "cell_type": "code",
   "execution_count": 174,
   "metadata": {},
   "outputs": [],
   "source": [
    "model_comparison = pd.concat(\n",
    "    [model_comparison, random_forest_results], ignore_index=True\n",
    ")"
   ]
  },
  {
   "cell_type": "code",
   "execution_count": 175,
   "metadata": {},
   "outputs": [
    {
     "ename": "AttributeError",
     "evalue": "'LinearRegression' object has no attribute 'feature_importances_'",
     "output_type": "error",
     "traceback": [
      "\u001b[0;31m---------------------------------------------------------------------------\u001b[0m",
      "\u001b[0;31mAttributeError\u001b[0m                            Traceback (most recent call last)",
      "Cell \u001b[0;32mIn[175], line 1\u001b[0m\n\u001b[0;32m----> 1\u001b[0m model\u001b[39m.\u001b[39;49mfeature_importances_\n",
      "\u001b[0;31mAttributeError\u001b[0m: 'LinearRegression' object has no attribute 'feature_importances_'"
     ]
    }
   ],
   "source": [
    "model.feature_importances_"
   ]
  },
  {
   "cell_type": "markdown",
   "metadata": {},
   "source": [
    "### Gradient Boosting"
   ]
  },
  {
   "cell_type": "code",
   "execution_count": 120,
   "metadata": {},
   "outputs": [],
   "source": [
    "param_grid = {\n",
    "    \"n_estimators\": [100, 120, 150, 200],\n",
    "    \"loss\": [\"squared_error\", \"absolute_error\", \"huber\", \"quantile\"],\n",
    "    \"min_samples_split\": [2, 4, 6, 8, 10],\n",
    "    \"max_features\": [\"sqrt\", \"log2\", None],\n",
    "}\n",
    "\n",
    "gradient_boosting_results = grid_search(GradientBoostingRegressor(), param_grid)"
   ]
  },
  {
   "cell_type": "code",
   "execution_count": 121,
   "metadata": {},
   "outputs": [],
   "source": [
    "model_comparison = pd.concat(\n",
    "    [model_comparison, gradient_boosting_results], ignore_index=True\n",
    ")"
   ]
  },
  {
   "cell_type": "code",
   "execution_count": 176,
   "metadata": {},
   "outputs": [
    {
     "data": {
      "text/html": [
       "<div>\n",
       "<style scoped>\n",
       "    .dataframe tbody tr th:only-of-type {\n",
       "        vertical-align: middle;\n",
       "    }\n",
       "\n",
       "    .dataframe tbody tr th {\n",
       "        vertical-align: top;\n",
       "    }\n",
       "\n",
       "    .dataframe thead th {\n",
       "        text-align: right;\n",
       "    }\n",
       "</style>\n",
       "<table border=\"1\" class=\"dataframe\">\n",
       "  <thead>\n",
       "    <tr style=\"text-align: right;\">\n",
       "      <th></th>\n",
       "      <th>Model</th>\n",
       "      <th>Mean Fit Time</th>\n",
       "      <th>Mean R2</th>\n",
       "      <th>Mean MAE</th>\n",
       "      <th>Mean RMSE</th>\n",
       "      <th>Best params</th>\n",
       "      <th>Runtime</th>\n",
       "    </tr>\n",
       "  </thead>\n",
       "  <tbody>\n",
       "    <tr>\n",
       "      <th>0</th>\n",
       "      <td>SVR()</td>\n",
       "      <td>0.028241</td>\n",
       "      <td>0.556352</td>\n",
       "      <td>0.644468</td>\n",
       "      <td>0.847723</td>\n",
       "      <td>{'C': 1, 'epsilon': 2}</td>\n",
       "      <td>6.134170</td>\n",
       "    </tr>\n",
       "    <tr>\n",
       "      <th>1</th>\n",
       "      <td>GradientBoostingRegressor()</td>\n",
       "      <td>0.180842</td>\n",
       "      <td>0.505467</td>\n",
       "      <td>0.680511</td>\n",
       "      <td>0.894792</td>\n",
       "      <td>{'loss': 'quantile', 'max_features': None, 'mi...</td>\n",
       "      <td>218.938142</td>\n",
       "    </tr>\n",
       "    <tr>\n",
       "      <th>2</th>\n",
       "      <td>ElasticNet()</td>\n",
       "      <td>0.001787</td>\n",
       "      <td>-0.003302</td>\n",
       "      <td>1.028470</td>\n",
       "      <td>1.276935</td>\n",
       "      <td>{'alpha': 100, 'l1_ratio': 0.5, 'max_iter': 50...</td>\n",
       "      <td>0.871634</td>\n",
       "    </tr>\n",
       "    <tr>\n",
       "      <th>3</th>\n",
       "      <td>ElasticNet()</td>\n",
       "      <td>0.002577</td>\n",
       "      <td>-0.003302</td>\n",
       "      <td>1.028470</td>\n",
       "      <td>1.276935</td>\n",
       "      <td>{'alpha': 100, 'l1_ratio': 0.5, 'max_iter': 50...</td>\n",
       "      <td>1.398836</td>\n",
       "    </tr>\n",
       "    <tr>\n",
       "      <th>4</th>\n",
       "      <td>ElasticNet()</td>\n",
       "      <td>0.002113</td>\n",
       "      <td>-0.003302</td>\n",
       "      <td>1.028470</td>\n",
       "      <td>1.276935</td>\n",
       "      <td>{'alpha': 100, 'l1_ratio': 0.5, 'max_iter': 50...</td>\n",
       "      <td>1.019127</td>\n",
       "    </tr>\n",
       "    <tr>\n",
       "      <th>5</th>\n",
       "      <td>ElasticNet()</td>\n",
       "      <td>0.001972</td>\n",
       "      <td>-0.003302</td>\n",
       "      <td>1.028470</td>\n",
       "      <td>1.276935</td>\n",
       "      <td>{'alpha': 100, 'l1_ratio': 0.5, 'max_iter': 50...</td>\n",
       "      <td>0.954092</td>\n",
       "    </tr>\n",
       "    <tr>\n",
       "      <th>6</th>\n",
       "      <td>ElasticNet()</td>\n",
       "      <td>0.001419</td>\n",
       "      <td>-0.003302</td>\n",
       "      <td>1.028470</td>\n",
       "      <td>1.276935</td>\n",
       "      <td>{'alpha': 100, 'l1_ratio': 0.5, 'max_iter': 50...</td>\n",
       "      <td>0.781364</td>\n",
       "    </tr>\n",
       "    <tr>\n",
       "      <th>7</th>\n",
       "      <td>ElasticNet()</td>\n",
       "      <td>0.001884</td>\n",
       "      <td>-0.003302</td>\n",
       "      <td>1.028470</td>\n",
       "      <td>1.276935</td>\n",
       "      <td>{'alpha': 100, 'l1_ratio': 0.5, 'max_iter': 50...</td>\n",
       "      <td>0.956233</td>\n",
       "    </tr>\n",
       "    <tr>\n",
       "      <th>8</th>\n",
       "      <td>ElasticNet()</td>\n",
       "      <td>0.001618</td>\n",
       "      <td>-0.003302</td>\n",
       "      <td>0.446659</td>\n",
       "      <td>0.554566</td>\n",
       "      <td>{'alpha': 100, 'l1_ratio': 0.5, 'max_iter': 50...</td>\n",
       "      <td>0.857946</td>\n",
       "    </tr>\n",
       "    <tr>\n",
       "      <th>9</th>\n",
       "      <td>SVR()</td>\n",
       "      <td>0.031719</td>\n",
       "      <td>0.453345</td>\n",
       "      <td>0.310557</td>\n",
       "      <td>0.408814</td>\n",
       "      <td>{'C': 1, 'epsilon': 2}</td>\n",
       "      <td>6.564898</td>\n",
       "    </tr>\n",
       "    <tr>\n",
       "      <th>10</th>\n",
       "      <td>RandomForestRegressor()</td>\n",
       "      <td>0.245823</td>\n",
       "      <td>0.598192</td>\n",
       "      <td>0.264428</td>\n",
       "      <td>0.350017</td>\n",
       "      <td>{'max_depth': 1, 'max_features': 'sqrt', 'min_...</td>\n",
       "      <td>453.799831</td>\n",
       "    </tr>\n",
       "  </tbody>\n",
       "</table>\n",
       "</div>"
      ],
      "text/plain": [
       "                          Model  Mean Fit Time   Mean R2  Mean MAE  Mean RMSE  \\\n",
       "0                         SVR()       0.028241  0.556352  0.644468   0.847723   \n",
       "1   GradientBoostingRegressor()       0.180842  0.505467  0.680511   0.894792   \n",
       "2                  ElasticNet()       0.001787 -0.003302  1.028470   1.276935   \n",
       "3                  ElasticNet()       0.002577 -0.003302  1.028470   1.276935   \n",
       "4                  ElasticNet()       0.002113 -0.003302  1.028470   1.276935   \n",
       "5                  ElasticNet()       0.001972 -0.003302  1.028470   1.276935   \n",
       "6                  ElasticNet()       0.001419 -0.003302  1.028470   1.276935   \n",
       "7                  ElasticNet()       0.001884 -0.003302  1.028470   1.276935   \n",
       "8                  ElasticNet()       0.001618 -0.003302  0.446659   0.554566   \n",
       "9                         SVR()       0.031719  0.453345  0.310557   0.408814   \n",
       "10      RandomForestRegressor()       0.245823  0.598192  0.264428   0.350017   \n",
       "\n",
       "                                          Best params     Runtime  \n",
       "0                              {'C': 1, 'epsilon': 2}    6.134170  \n",
       "1   {'loss': 'quantile', 'max_features': None, 'mi...  218.938142  \n",
       "2   {'alpha': 100, 'l1_ratio': 0.5, 'max_iter': 50...    0.871634  \n",
       "3   {'alpha': 100, 'l1_ratio': 0.5, 'max_iter': 50...    1.398836  \n",
       "4   {'alpha': 100, 'l1_ratio': 0.5, 'max_iter': 50...    1.019127  \n",
       "5   {'alpha': 100, 'l1_ratio': 0.5, 'max_iter': 50...    0.954092  \n",
       "6   {'alpha': 100, 'l1_ratio': 0.5, 'max_iter': 50...    0.781364  \n",
       "7   {'alpha': 100, 'l1_ratio': 0.5, 'max_iter': 50...    0.956233  \n",
       "8   {'alpha': 100, 'l1_ratio': 0.5, 'max_iter': 50...    0.857946  \n",
       "9                              {'C': 1, 'epsilon': 2}    6.564898  \n",
       "10  {'max_depth': 1, 'max_features': 'sqrt', 'min_...  453.799831  "
      ]
     },
     "execution_count": 176,
     "metadata": {},
     "output_type": "execute_result"
    }
   ],
   "source": [
    "model_comparison"
   ]
  }
 ],
 "metadata": {
  "kernelspec": {
   "display_name": "p4",
   "language": "python",
   "name": "python3"
  },
  "language_info": {
   "codemirror_mode": {
    "name": "ipython",
    "version": 3
   },
   "file_extension": ".py",
   "mimetype": "text/x-python",
   "name": "python",
   "nbconvert_exporter": "python",
   "pygments_lexer": "ipython3",
   "version": "3.10.12"
  },
  "orig_nbformat": 4
 },
 "nbformat": 4,
 "nbformat_minor": 2
}
